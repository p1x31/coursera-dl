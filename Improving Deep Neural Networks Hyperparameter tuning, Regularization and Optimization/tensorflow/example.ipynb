{
 "cells": [
  {
   "cell_type": "code",
   "execution_count": 1,
   "id": "1da60361",
   "metadata": {},
   "outputs": [],
   "source": [
    "import numpy as np\n",
    "import tensorflow as tf"
   ]
  },
  {
   "cell_type": "code",
   "execution_count": 2,
   "id": "766035cc",
   "metadata": {},
   "outputs": [
    {
     "name": "stdout",
     "output_type": "stream",
     "text": [
      "2.9.1\n"
     ]
    }
   ],
   "source": [
    "print(tf.__version__)\n"
   ]
  },
  {
   "cell_type": "code",
   "execution_count": 6,
   "id": "2f331a4d",
   "metadata": {},
   "outputs": [
    {
     "ename": "AttributeError",
     "evalue": "module 'tensorflow._api.v2.train' has no attribute 'GradientDescentOptimizer'",
     "output_type": "error",
     "traceback": [
      "\u001b[0;31m---------------------------------------------------------------------------\u001b[0m",
      "\u001b[0;31mAttributeError\u001b[0m                            Traceback (most recent call last)",
      "\u001b[1;32m/home/vadim/Documents/coursera-dl/Improving Deep Neural Networks Hyperparameter tuning, Regularization and Optimization/tensorflow/example.ipynb Cell 3'\u001b[0m in \u001b[0;36m<cell line: 6>\u001b[0;34m()\u001b[0m\n\u001b[1;32m      <a href='vscode-notebook-cell:/home/vadim/Documents/coursera-dl/Improving%20Deep%20Neural%20Networks%20Hyperparameter%20tuning%2C%20Regularization%20and%20Optimization/tensorflow/example.ipynb#ch0000002?line=3'>4</a>\u001b[0m cost \u001b[39m=\u001b[39m tf\u001b[39m.\u001b[39madd(tf\u001b[39m.\u001b[39madd(w\u001b[39m*\u001b[39m\u001b[39m*\u001b[39m\u001b[39m2\u001b[39m, tf\u001b[39m.\u001b[39mmultiply(\u001b[39m-\u001b[39m\u001b[39m10.\u001b[39m,\u001b[39m2\u001b[39m)),\u001b[39m25\u001b[39m)\n\u001b[1;32m      <a href='vscode-notebook-cell:/home/vadim/Documents/coursera-dl/Improving%20Deep%20Neural%20Networks%20Hyperparameter%20tuning%2C%20Regularization%20and%20Optimization/tensorflow/example.ipynb#ch0000002?line=4'>5</a>\u001b[0m \u001b[39m#learning algo\u001b[39;00m\n\u001b[0;32m----> <a href='vscode-notebook-cell:/home/vadim/Documents/coursera-dl/Improving%20Deep%20Neural%20Networks%20Hyperparameter%20tuning%2C%20Regularization%20and%20Optimization/tensorflow/example.ipynb#ch0000002?line=5'>6</a>\u001b[0m train \u001b[39m=\u001b[39m tf\u001b[39m.\u001b[39;49mtrain\u001b[39m.\u001b[39;49mGradientDescentOptimizer(\u001b[39m0.01\u001b[39m)\u001b[39m.\u001b[39m minimize(cost)\n\u001b[1;32m      <a href='vscode-notebook-cell:/home/vadim/Documents/coursera-dl/Improving%20Deep%20Neural%20Networks%20Hyperparameter%20tuning%2C%20Regularization%20and%20Optimization/tensorflow/example.ipynb#ch0000002?line=7'>8</a>\u001b[0m init \u001b[39m=\u001b[39m tf\u001b[39m.\u001b[39mglobal_variables_initializer()\n\u001b[1;32m      <a href='vscode-notebook-cell:/home/vadim/Documents/coursera-dl/Improving%20Deep%20Neural%20Networks%20Hyperparameter%20tuning%2C%20Regularization%20and%20Optimization/tensorflow/example.ipynb#ch0000002?line=8'>9</a>\u001b[0m session \u001b[39m=\u001b[39m tf\u001b[39m.\u001b[39mSession()\n",
      "\u001b[0;31mAttributeError\u001b[0m: module 'tensorflow._api.v2.train' has no attribute 'GradientDescentOptimizer'"
     ]
    }
   ],
   "source": [
    "#init w = 0\n",
    "w = tf.Variable(0, dtype=tf.float32)\n",
    "#define cost function\n",
    "cost = tf.add(tf.add(w**2, tf.multiply(-10.,2)),25)\n",
    "#learning algo\n",
    "train = tf.train.GradientDescentOptimizer(0.01). minimize(cost)\n",
    "\n",
    "init = tf.global_variables_initializer()\n",
    "session = tf.Session()\n",
    "#initialize global variables\n",
    "\n",
    "session.run(init)\n",
    "print(session.run(w))"
   ]
  },
  {
   "cell_type": "code",
   "execution_count": null,
   "id": "7175f405",
   "metadata": {},
   "outputs": [],
   "source": [
    "#run one step of gradient descent\n",
    "session.run(train)\n",
    "#evaluate w after one step of gradient descent\n",
    "print(session.run(w))"
   ]
  },
  {
   "cell_type": "code",
   "execution_count": null,
   "id": "36a41000",
   "metadata": {},
   "outputs": [],
   "source": [
    "for i in range(1000):\n",
    "    session.run(train)\n",
    "print(session.run(w))"
   ]
  },
  {
   "cell_type": "code",
   "execution_count": 9,
   "id": "eae39e45",
   "metadata": {},
   "outputs": [
    {
     "name": "stdout",
     "output_type": "stream",
     "text": [
      "/bin/bash: tf_upgrade_v2.py: command not found\n"
     ]
    }
   ],
   "source": [
    "!tf_upgrade_v2.py --infile \"example.ipynb\" --outfile example_v2.ipynb"
   ]
  },
  {
   "cell_type": "code",
   "execution_count": null,
   "id": "2ce7f6e3",
   "metadata": {},
   "outputs": [],
   "source": []
  },
  {
   "cell_type": "code",
   "execution_count": null,
   "id": "a58c79db",
   "metadata": {},
   "outputs": [],
   "source": []
  },
  {
   "cell_type": "code",
   "execution_count": null,
   "id": "10ee66e1",
   "metadata": {},
   "outputs": [],
   "source": []
  }
 ],
 "metadata": {
  "kernelspec": {
   "display_name": "Python 3.9.12 ('tf')",
   "language": "python",
   "name": "python3"
  },
  "language_info": {
   "codemirror_mode": {
    "name": "ipython",
    "version": 3
   },
   "file_extension": ".py",
   "mimetype": "text/x-python",
   "name": "python",
   "nbconvert_exporter": "python",
   "pygments_lexer": "ipython3",
   "version": "3.9.12"
  },
  "vscode": {
   "interpreter": {
    "hash": "bc8fab90f86921a490c15b33fc48436930ad3fb5a513ca112898407c8a5a09c6"
   }
  }
 },
 "nbformat": 4,
 "nbformat_minor": 5
}
